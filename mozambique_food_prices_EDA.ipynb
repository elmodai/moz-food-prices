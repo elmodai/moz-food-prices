{
 "cells": [
  {
   "cell_type": "code",
   "execution_count": 4,
   "metadata": {},
   "outputs": [],
   "source": [
    "import pandas as pd\n",
    "import numpy as np"
   ]
  },
  {
   "cell_type": "code",
   "execution_count": 5,
   "metadata": {},
   "outputs": [],
   "source": [
    "df = pd.read_csv(\"datasets/wfp_food_prices_mozambique.csv\")"
   ]
  },
  {
   "cell_type": "code",
   "execution_count": 7,
   "metadata": {},
   "outputs": [
    {
     "data": {
      "text/html": "<div>\n<style scoped>\n    .dataframe tbody tr th:only-of-type {\n        vertical-align: middle;\n    }\n\n    .dataframe tbody tr th {\n        vertical-align: top;\n    }\n\n    .dataframe thead th {\n        text-align: right;\n    }\n</style>\n<table border=\"1\" class=\"dataframe\">\n  <thead>\n    <tr style=\"text-align: right;\">\n      <th></th>\n      <th>price</th>\n      <th>admname</th>\n      <th>adm1id</th>\n      <th>mktid</th>\n      <th>cmid</th>\n      <th>ptid</th>\n      <th>umid</th>\n      <th>catid</th>\n      <th>default</th>\n    </tr>\n  </thead>\n  <tbody>\n    <tr>\n      <th>count</th>\n      <td>40273.000000</td>\n      <td>0.0</td>\n      <td>40273.000000</td>\n      <td>40273.000000</td>\n      <td>40273.000000</td>\n      <td>40273.000000</td>\n      <td>40273.000000</td>\n      <td>40273.000000</td>\n      <td>0.0</td>\n    </tr>\n    <tr>\n      <th>mean</th>\n      <td>41.835049</td>\n      <td>NaN</td>\n      <td>2117.367517</td>\n      <td>454.451742</td>\n      <td>220.879597</td>\n      <td>14.979937</td>\n      <td>5.970874</td>\n      <td>3.306384</td>\n      <td>NaN</td>\n    </tr>\n    <tr>\n      <th>std</th>\n      <td>28.509619</td>\n      <td>NaN</td>\n      <td>3.359921</td>\n      <td>539.100374</td>\n      <td>129.620899</td>\n      <td>0.140218</td>\n      <td>2.960804</td>\n      <td>2.336852</td>\n      <td>NaN</td>\n    </tr>\n    <tr>\n      <th>min</th>\n      <td>1.000000</td>\n      <td>NaN</td>\n      <td>2112.000000</td>\n      <td>316.000000</td>\n      <td>52.000000</td>\n      <td>14.000000</td>\n      <td>5.000000</td>\n      <td>1.000000</td>\n      <td>NaN</td>\n    </tr>\n    <tr>\n      <th>25%</th>\n      <td>23.333300</td>\n      <td>NaN</td>\n      <td>2114.000000</td>\n      <td>321.000000</td>\n      <td>67.000000</td>\n      <td>15.000000</td>\n      <td>5.000000</td>\n      <td>1.000000</td>\n      <td>NaN</td>\n    </tr>\n    <tr>\n      <th>50%</th>\n      <td>35.940000</td>\n      <td>NaN</td>\n      <td>2118.000000</td>\n      <td>326.000000</td>\n      <td>222.000000</td>\n      <td>15.000000</td>\n      <td>5.000000</td>\n      <td>4.000000</td>\n      <td>NaN</td>\n    </tr>\n    <tr>\n      <th>75%</th>\n      <td>55.416600</td>\n      <td>NaN</td>\n      <td>2120.000000</td>\n      <td>334.000000</td>\n      <td>286.000000</td>\n      <td>15.000000</td>\n      <td>5.000000</td>\n      <td>5.000000</td>\n      <td>NaN</td>\n    </tr>\n    <tr>\n      <th>max</th>\n      <td>1000.000000</td>\n      <td>NaN</td>\n      <td>2122.000000</td>\n      <td>2753.000000</td>\n      <td>431.000000</td>\n      <td>15.000000</td>\n      <td>15.000000</td>\n      <td>7.000000</td>\n      <td>NaN</td>\n    </tr>\n  </tbody>\n</table>\n</div>",
      "text/plain": "              price  admname        adm1id         mktid          cmid  \\\ncount  40273.000000      0.0  40273.000000  40273.000000  40273.000000   \nmean      41.835049      NaN   2117.367517    454.451742    220.879597   \nstd       28.509619      NaN      3.359921    539.100374    129.620899   \nmin        1.000000      NaN   2112.000000    316.000000     52.000000   \n25%       23.333300      NaN   2114.000000    321.000000     67.000000   \n50%       35.940000      NaN   2118.000000    326.000000    222.000000   \n75%       55.416600      NaN   2120.000000    334.000000    286.000000   \nmax     1000.000000      NaN   2122.000000   2753.000000    431.000000   \n\n               ptid          umid         catid  default  \ncount  40273.000000  40273.000000  40273.000000      0.0  \nmean      14.979937      5.970874      3.306384      NaN  \nstd        0.140218      2.960804      2.336852      NaN  \nmin       14.000000      5.000000      1.000000      NaN  \n25%       15.000000      5.000000      1.000000      NaN  \n50%       15.000000      5.000000      4.000000      NaN  \n75%       15.000000      5.000000      5.000000      NaN  \nmax       15.000000     15.000000      7.000000      NaN  "
     },
     "execution_count": 7,
     "metadata": {},
     "output_type": "execute_result"
    }
   ],
   "source": [
    "df.describe()"
   ]
  },
  {
   "cell_type": "code",
   "execution_count": null,
   "metadata": {},
   "outputs": [],
   "source": []
  }
 ],
 "metadata": {
  "kernelspec": {
   "display_name": "Python 3.7.7 64-bit",
   "metadata": {
    "interpreter": {
     "hash": "e534e48711db4d1e1c48977d0d14ff85b1f16d41bcc4fdfd88268a329b3c9d66"
    }
   },
   "name": "python3"
  },
  "language_info": {
   "codemirror_mode": {
    "name": "ipython",
    "version": 3
   },
   "file_extension": ".py",
   "mimetype": "text/x-python",
   "name": "python",
   "nbconvert_exporter": "python",
   "pygments_lexer": "ipython3",
   "version": "3.7.7"
  },
  "orig_nbformat": 2
 },
 "nbformat": 4,
 "nbformat_minor": 2
}